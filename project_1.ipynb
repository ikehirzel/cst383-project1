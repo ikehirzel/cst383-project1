{
 "cells": [
  {
   "cell_type": "code",
   "execution_count": null,
   "metadata": {},
   "outputs": [],
   "source": [
    "import numpy as np\n",
    "import pandas as pd\n",
    "import seaborn as sns"
   ]
  },
  {
   "cell_type": "code",
   "execution_count": null,
   "metadata": {},
   "outputs": [],
   "source": [
    "print(\"Hello World\")\n",
    "print(\"this is a change by ike\")"
   ]
  },
  {
   "cell_type": "code",
   "execution_count": null,
   "metadata": {},
   "outputs": [],
   "source": [
    "#Doctor Bruns Code Below"
   ]
  },
  {
   "cell_type": "code",
   "execution_count": null,
   "metadata": {},
   "outputs": [],
   "source": [
    "from matplotlib import rcParams\n",
    "\n",
    "# graphics (the right size will depend on your system)\n",
    "rcParams['figure.figsize'] = 10,6\n",
    "sns.set_context('notebook')   # 'talk' for slightly larger..\n",
    "\n",
    "# read the data\n",
    "data_dir = \"C:/Users/Glenn/google drive/csumb/spring20/DS/projects/project1/raw-data/\"\n",
    "df = pd.read_csv(data_dir+\"Crash_Reporting_-_Drivers_Data.csv\")\n",
    "\n",
    "# turn the accident time into Pandas timestamp values, and make time the index\n",
    "# of the dataframe\n",
    "df.index = pd.to_datetime(df['Crash Date/Time'])\n",
    "df = df.sort_index()\n",
    "\n",
    "# drop the columns that won't be used (this depends completely on your project)\n",
    "df = df.drop(['Report Number', 'Local Case Number', 'Person ID', 'Off-Road Description', \n",
    "              'Municipality', 'Vehicle ID', 'Drivers License State', \n",
    "              'Non-Motorist Substance Abuse', 'Driverless Vehicle',\t\n",
    "              'Parked Vehicle', 'Latitude',\t'Longitude', 'Location', \n",
    "              'Cross-Street Type', 'Related Non-Motorist', 'Crash Date/Time', 'Circumstance'], axis=1)\n",
    "\n",
    "# creating an \"hour of day\" column\n",
    "# a \"day of week\" or \"month of year\" column might also be handy\n",
    "df['hour'] = df.index.hour"
   ]
  }
 ],
 "metadata": {
  "kernelspec": {
   "display_name": "Python 3",
   "language": "python",
   "name": "python3"
  },
  "language_info": {
   "codemirror_mode": {
    "name": "ipython",
    "version": 3
   },
   "file_extension": ".py",
   "mimetype": "text/x-python",
   "name": "python",
   "nbconvert_exporter": "python",
   "pygments_lexer": "ipython3",
   "version": "3.8.5"
  }
 },
 "nbformat": 4,
 "nbformat_minor": 4
}
