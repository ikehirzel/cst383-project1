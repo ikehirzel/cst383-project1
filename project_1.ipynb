{
 "cells": [
  {
   "cell_type": "code",
   "execution_count": 1,
   "metadata": {},
   "outputs": [],
   "source": [
    "import numpy as np\n",
    "import pandas as pd\n",
    "import seaborn as sns"
   ]
  },
  {
   "cell_type": "code",
   "execution_count": 2,
   "metadata": {},
   "outputs": [
    {
     "name": "stdout",
     "output_type": "stream",
     "text": [
      "Hello World\n",
      "this is a change by ike\n"
     ]
    }
   ],
   "source": [
    "print(\"Hello World\")\n",
    "print(\"this is a change by ike\")"
   ]
  },
  {
   "cell_type": "code",
   "execution_count": null,
   "metadata": {},
   "outputs": [],
   "source": [
    "#Doctor Bruns Code Below"
   ]
  },
  {
   "cell_type": "code",
   "execution_count": 4,
   "metadata": {},
   "outputs": [
    {
     "name": "stderr",
     "output_type": "stream",
     "text": [
      "C:\\Users\\riley_bxtvy5\\anaconda3\\lib\\site-packages\\IPython\\core\\interactiveshell.py:3146: DtypeWarning: Columns (1) have mixed types.Specify dtype option on import or set low_memory=False.\n",
      "  has_raised = await self.run_ast_nodes(code_ast.body, cell_name,\n"
     ]
    }
   ],
   "source": [
    "from matplotlib import rcParams\n",
    "\n",
    "# graphics (the right size will depend on your system)\n",
    "rcParams['figure.figsize'] = 10,6\n",
    "sns.set_context('notebook')   # 'talk' for slightly larger..\n",
    "\n",
    "# read the data\n",
    "#### data_dir = \"C:/Users/Glenn/google drive/csumb/spring20/DS/projects/project1/raw-data/\"\n",
    "df = pd.read_csv(\"https://raw.githubusercontent.com/ikehirzel/cst383-proj1/main/crash_reports.csv\")\n",
    "\n",
    "# turn the accident time into Pandas timestamp values, and make time the index\n",
    "# of the dataframe\n",
    "df.index = pd.to_datetime(df['Crash Date/Time'])\n",
    "df = df.sort_index()\n",
    "\n",
    "# drop the columns that won't be used (this depends completely on your project)\n",
    "df = df.drop(['Report Number', 'Local Case Number', 'Person ID', 'Off-Road Description', \n",
    "              'Municipality', 'Vehicle ID', 'Drivers License State', \n",
    "              'Non-Motorist Substance Abuse', 'Driverless Vehicle',\t\n",
    "              'Parked Vehicle', 'Latitude',\t'Longitude', 'Location', \n",
    "              'Cross-Street Type', 'Related Non-Motorist', 'Crash Date/Time', 'Circumstance'], axis=1)\n",
    "\n",
    "# creating an \"hour of day\" column\n",
    "# a \"day of week\" or \"month of year\" column might also be handy\n",
    "df['hour'] = df.index.hour"
   ]
  },
  {
   "cell_type": "code",
   "execution_count": 5,
   "metadata": {},
   "outputs": [
    {
     "name": "stdout",
     "output_type": "stream",
     "text": [
      "<class 'pandas.core.frame.DataFrame'>\n",
      "DatetimeIndex: 121400 entries, 2015-01-01 00:30:00 to 2021-03-10 14:35:00\n",
      "Data columns (total 27 columns):\n",
      " #   Column                          Non-Null Count   Dtype \n",
      "---  ------                          --------------   ----- \n",
      " 0   Agency Name                     121400 non-null  object\n",
      " 1   ACRS Report Type                121400 non-null  object\n",
      " 2   Route Type                      109654 non-null  object\n",
      " 3   Road Name                       110252 non-null  object\n",
      " 4   Cross-Street Name               110247 non-null  object\n",
      " 5   Collision Type                  120997 non-null  object\n",
      " 6   Weather                         111807 non-null  object\n",
      " 7   Surface Condition               107100 non-null  object\n",
      " 8   Light                           120394 non-null  object\n",
      " 9   Traffic Control                 102277 non-null  object\n",
      " 10  Driver Substance Abuse          99283 non-null   object\n",
      " 11  Driver At Fault                 121400 non-null  object\n",
      " 12  Injury Severity                 121400 non-null  object\n",
      " 13  Driver Distracted By            121400 non-null  object\n",
      " 14  Vehicle Damage Extent           121183 non-null  object\n",
      " 15  Vehicle First Impact Location   121244 non-null  object\n",
      " 16  Vehicle Second Impact Location  121144 non-null  object\n",
      " 17  Vehicle Body Type               119635 non-null  object\n",
      " 18  Vehicle Movement                121152 non-null  object\n",
      " 19  Vehicle Continuing Dir          119601 non-null  object\n",
      " 20  Vehicle Going Dir               119601 non-null  object\n",
      " 21  Speed Limit                     121400 non-null  int64 \n",
      " 22  Vehicle Year                    121400 non-null  int64 \n",
      " 23  Vehicle Make                    121379 non-null  object\n",
      " 24  Vehicle Model                   121347 non-null  object\n",
      " 25  Equipment Problems              94915 non-null   object\n",
      " 26  hour                            121400 non-null  int64 \n",
      "dtypes: int64(3), object(24)\n",
      "memory usage: 25.9+ MB\n"
     ]
    }
   ],
   "source": [
    "df.info()"
   ]
  },
  {
   "cell_type": "code",
   "execution_count": null,
   "metadata": {},
   "outputs": [],
   "source": []
  }
 ],
 "metadata": {
  "kernelspec": {
   "display_name": "Python 3",
   "language": "python",
   "name": "python3"
  },
  "language_info": {
   "codemirror_mode": {
    "name": "ipython",
    "version": 3
   },
   "file_extension": ".py",
   "mimetype": "text/x-python",
   "name": "python",
   "nbconvert_exporter": "python",
   "pygments_lexer": "ipython3",
   "version": "3.8.5"
  }
 },
 "nbformat": 4,
 "nbformat_minor": 4
}
