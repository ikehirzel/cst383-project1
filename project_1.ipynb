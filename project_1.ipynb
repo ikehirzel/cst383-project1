{
 "cells": [
  {
   "cell_type": "markdown",
   "metadata": {},
   "source": [
    "# Montgomery County Driver's Guide\n",
    "    by Isaac Hirzel and Riley Galloway\n",
    "    \n",
    "    \n",
    "### Introduction\n",
    "    This report is analyzing the automobile accident statistics in and around Montgomery County. Specifically the report will be focusing on the effects of weather, time, control type, and location on crash frequency and severity.\n",
    "    \n",
    "### Background\n",
    "    The data used in this report was collected from https://data.montgomerycountymd.gov/Public-Safety/Crash-Reporting-Drivers-Data/mmzv-x632 which is Montgomery County of Maryland's official crash report dataset. The specific sample of data was taken one March 18th and does not contain any data newer than that date."
   ]
  },
  {
   "cell_type": "code",
   "execution_count": null,
   "metadata": {},
   "outputs": [],
   "source": [
    "import numpy as np\n",
    "import pandas as pd\n",
    "import seaborn as sns\n",
    "from matplotlib import pyplot as plt\n",
    "from matplotlib import rcParams\n",
    "\n",
    "# graphics (the right size will depend on your system)\n",
    "rcParams['figure.figsize'] = 10,6\n",
    "sns.set_context('notebook')   # 'talk' for slightly larger..\n",
    "\n",
    "# read the data\n",
    "df = pd.read_csv(\"https://raw.githubusercontent.com/ikehirzel/cst383-proj1/main/crash_reports.csv\", low_memory=False)\n",
    "\n",
    "# turn the accident time into Pandas timestamp values, and make time the index\n",
    "# of the dataframe\n",
    "df.index = pd.to_datetime(df['Crash Date/Time'])\n",
    "df = df.sort_index()\n",
    "\n",
    "# drop the columns that won't be used (this depends completely on your project)\n",
    "df = df.drop(['Agency Name', 'ACRS Report Type','Report Number',\n",
    "              'Local Case Number', 'Person ID', 'Off-Road Description', \n",
    "              'Municipality', 'Vehicle ID', 'Drivers License State', \n",
    "              'Non-Motorist Substance Abuse', 'Driverless Vehicle',\t\n",
    "              'Parked Vehicle', 'Latitude',\t'Longitude', 'Location', \n",
    "              'Cross-Street Type', 'Related Non-Motorist', 'Crash Date/Time', 'Circumstance'], axis=1)\n",
    "\n",
    "# creating an \"hour of day\" column\n",
    "# a \"day of week\" or \"month of year\" column might also be handy\n",
    "df['hour'] = df.index.hour"
   ]
  },
  {
   "cell_type": "code",
   "execution_count": null,
   "metadata": {},
   "outputs": [],
   "source": [
    "df[\"Road Name\"].dropna().value_counts(ascending=False)[:10].plot.bar()\n",
    "plt.title(\"Roads with Highest Accident Count\")\n",
    "plt.xlabel(\"Road Name\")\n",
    "plt.ylabel(\"Count\")"
   ]
  },
  {
   "cell_type": "code",
   "execution_count": null,
   "metadata": {},
   "outputs": [],
   "source": [
    "(df[\"Road Name\"] + \"/\" + df[\"Cross-Street Name\"]).dropna().value_counts(ascending=False)[:10].plot.bar()\n",
    "plt.title(\"Intersections with Highest Accident Count\")\n",
    "plt.xlabel(\"Intersection Name\")\n",
    "plt.ylabel(\"Count\")"
   ]
  },
  {
   "cell_type": "code",
   "execution_count": null,
   "metadata": {},
   "outputs": [],
   "source": [
    "sns.kdeplot(df[\"Speed Limit\"], bw_adjust=2.0)\n",
    "plt.title(\"Distribution of Accidents by Speed Limit\")"
   ]
  },
  {
   "cell_type": "code",
   "execution_count": null,
   "metadata": {},
   "outputs": [],
   "source": [
    "collsionTypeDF = df[\"Collision Type\"].dropna().value_counts(ascending=False)\n",
    "collsionInterDF = df[\"Collision Type\"][(df[\"Traffic Control\"] != \"OTHER\") & (df[\"Traffic Control\"] != \"UNKNOWN\") & (df[\"Collision Type\"] != \"UNKNOWN\") & (df[\"Collision Type\"] != \"OTHER\")].dropna().value_counts(ascending=False).dropna()\n",
    "collsion = collsionTypeDF.plot.bar()"
   ]
  },
  {
   "cell_type": "code",
   "execution_count": null,
   "metadata": {},
   "outputs": [],
   "source": [
    "interType = df[\"Traffic Control\"][(df[\"Traffic Control\"] != \"OTHER\") & (df[\"Traffic Control\"] != \"UNKNOWN\")].dropna().value_counts(ascending=False).plot.bar()"
   ]
  },
  {
   "cell_type": "code",
   "execution_count": null,
   "metadata": {},
   "outputs": [],
   "source": []
  }
 ],
 "metadata": {
  "kernelspec": {
   "display_name": "Python 3",
   "language": "python",
   "name": "python3"
  },
  "language_info": {
   "codemirror_mode": {
    "name": "ipython",
    "version": 3
   },
   "file_extension": ".py",
   "mimetype": "text/x-python",
   "name": "python",
   "nbconvert_exporter": "python",
   "pygments_lexer": "ipython3",
   "version": "3.8.5"
  }
 },
 "nbformat": 4,
 "nbformat_minor": 4
}
